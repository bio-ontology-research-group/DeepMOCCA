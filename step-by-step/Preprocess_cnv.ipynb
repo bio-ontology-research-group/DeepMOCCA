{
 "cells": [
  {
   "cell_type": "code",
   "execution_count": 10,
   "metadata": {
    "collapsed": true
   },
   "outputs": [],
   "source": [
    "import pandas as pd\n",
    "import csv\n",
    "import numpy as np\n",
    "import os\n",
    "import glob"
   ]
  },
  {
   "cell_type": "code",
   "execution_count": 11,
   "metadata": {
    "collapsed": true
   },
   "outputs": [],
   "source": [
    "names = [\"TCGA-GBM\",\"TCGA-OV\",\"TCGA-LUAD\",\"TCGA-UCEC\",\"TCGA-KIRC\",\"TCGA-HNSC\",\"TCGA-LGG\",\"TCGA-THCA\",\"TCGA-LUSC\",\"TCGA-PRAD\",\"TCGA-SKCM\",\"TCGA-COAD\",\"TCGA-STAD\",\"TCGA-BLCA\",\"TCGA-LIHC\",\"TCGA-CESC\",\"TCGA-KIRP\",\"TCGA-SARC\",\"TCGA-LAML\",\"TCGA-PAAD\",\"TCGA-ESCA\",\"TCGA-PCPG\",\"TCGA-READ\",\"TCGA-TGCT\",\"TCGA-BRCA\",\"TCGA-THYM\",\"TCGA-KICH\",\"TCGA-ACC\",\"TCGA-MESO\",\"TCGA-UVM\",\"TCGA-DLBC\",\"TCGA-UCS\",\"TCGA-CHOL\"]\n",
    "dirFile = 'cancer_types/'"
   ]
  },
  {
   "cell_type": "markdown",
   "metadata": {},
   "source": [
    "# The CNV data are represented as a big matrix for each cancer type in names[i].focal_score_by_genes.txt\n",
    "\n",
    "# We iterated over each file and expanded into multiple files for each patient"
   ]
  },
  {
   "cell_type": "code",
   "execution_count": 12,
   "metadata": {},
   "outputs": [
    {
     "name": "stdout",
     "output_type": "stream",
     "text": [
      "TCGA-GBM\n",
      "cancer_types/TCGA-GBM/cnv/GBM.focal_score_by_genes.txt\n",
      "TCGA-OV\n",
      "cancer_types/TCGA-OV/cnv/OV.focal_score_by_genes.txt\n",
      "TCGA-LUAD\n",
      "cancer_types/TCGA-LUAD/cnv/LUAD.focal_score_by_genes.txt\n",
      "TCGA-UCEC\n",
      "cancer_types/TCGA-UCEC/cnv/UCEC.focal_score_by_genes.txt\n",
      "TCGA-KIRC\n",
      "cancer_types/TCGA-KIRC/cnv/KIRC.focal_score_by_genes.txt\n",
      "TCGA-HNSC\n",
      "cancer_types/TCGA-HNSC/cnv/HNSC.focal_score_by_genes.txt\n",
      "TCGA-LGG\n",
      "cancer_types/TCGA-LGG/cnv/LGG.focal_score_by_genes.txt\n",
      "TCGA-THCA\n",
      "cancer_types/TCGA-THCA/cnv/THCA.focal_score_by_genes.txt\n",
      "TCGA-LUSC\n",
      "cancer_types/TCGA-LUSC/cnv/LUSC.focal_score_by_genes.txt\n",
      "TCGA-PRAD\n",
      "cancer_types/TCGA-PRAD/cnv/PRAD.focal_score_by_genes.txt\n",
      "TCGA-SKCM\n",
      "cancer_types/TCGA-SKCM/cnv/SKCM.focal_score_by_genes.txt\n",
      "TCGA-COAD\n",
      "cancer_types/TCGA-COAD/cnv/COAD.focal_score_by_genes.txt\n",
      "TCGA-STAD\n",
      "cancer_types/TCGA-STAD/cnv/STAD.focal_score_by_genes.txt\n",
      "TCGA-BLCA\n",
      "cancer_types/TCGA-BLCA/cnv/BLCA.focal_score_by_genes.txt\n",
      "TCGA-LIHC\n",
      "cancer_types/TCGA-LIHC/cnv/LIHC.focal_score_by_genes.txt\n",
      "TCGA-CESC\n",
      "cancer_types/TCGA-CESC/cnv/CESC.focal_score_by_genes.txt\n",
      "TCGA-KIRP\n",
      "cancer_types/TCGA-KIRP/cnv/KIRP.focal_score_by_genes.txt\n",
      "TCGA-SARC\n",
      "cancer_types/TCGA-SARC/cnv/SARC.focal_score_by_genes.txt\n",
      "TCGA-LAML\n",
      "cancer_types/TCGA-LAML/cnv/LAML.focal_score_by_genes.txt\n",
      "TCGA-PAAD\n",
      "cancer_types/TCGA-PAAD/cnv/PAAD.focal_score_by_genes.txt\n",
      "TCGA-ESCA\n",
      "cancer_types/TCGA-ESCA/cnv/ESCA.focal_score_by_genes.txt\n",
      "TCGA-PCPG\n",
      "cancer_types/TCGA-PCPG/cnv/PCPG.focal_score_by_genes.txt\n",
      "TCGA-READ\n",
      "cancer_types/TCGA-READ/cnv/READ.focal_score_by_genes.txt\n",
      "TCGA-TGCT\n",
      "cancer_types/TCGA-TGCT/cnv/TGCT.focal_score_by_genes.txt\n",
      "TCGA-THYM\n",
      "cancer_types/TCGA-THYM/cnv/THYM.focal_score_by_genes.txt\n",
      "TCGA-KICH\n",
      "cancer_types/TCGA-KICH/cnv/KICH.focal_score_by_genes.txt\n",
      "TCGA-ACC\n",
      "cancer_types/TCGA-ACC/cnv/ACC.focal_score_by_genes.txt\n",
      "TCGA-MESO\n",
      "cancer_types/TCGA-MESO/cnv/MESO.focal_score_by_genes.txt\n",
      "TCGA-UVM\n",
      "cancer_types/TCGA-UVM/cnv/UVM.focal_score_by_genes.txt\n",
      "TCGA-DLBC\n",
      "cancer_types/TCGA-DLBC/cnv/DLBC.focal_score_by_genes.txt\n",
      "TCGA-UCS\n",
      "cancer_types/TCGA-UCS/cnv/UCS.focal_score_by_genes.txt\n",
      "TCGA-CHOL\n",
      "cancer_types/TCGA-CHOL/cnv/CHOL.focal_score_by_genes.txt\n"
     ]
    }
   ],
   "source": [
    "for i in range(len(names)):\n",
    "    print(names[i])\n",
    "    search_path = dirFile + names[i] + \"/cnv/*.focal_score_by_genes.txt\"\n",
    "    allFile = glob.glob(search_path)\n",
    "    for file_ in allFile:\n",
    "        print(file_)\n",
    "        df1 = pd.read_csv(file_, header=0, sep='\\t')\n",
    "        del df1['Gene ID']\n",
    "        del df1['Cytoband']\n",
    "        for j in range(df1.shape[1]-1):\n",
    "            df = df1[[df1.columns[0],df1.columns[j+1]]]\n",
    "            df.to_csv(dirFile + names[i] +'/cnv/'+df1.columns[j+1]+'.txt', sep='\\t', index=False, header=False)"
   ]
  },
  {
   "cell_type": "code",
   "execution_count": null,
   "metadata": {
    "collapsed": true
   },
   "outputs": [],
   "source": []
  }
 ],
 "metadata": {
  "kernelspec": {
   "display_name": "Python 3 (ipykernel)",
   "language": "python",
   "name": "python3"
  },
  "language_info": {
   "codemirror_mode": {
    "name": "ipython",
    "version": 3
   },
   "file_extension": ".py",
   "mimetype": "text/x-python",
   "name": "python",
   "nbconvert_exporter": "python",
   "pygments_lexer": "ipython3",
   "version": "3.9.6"
  }
 },
 "nbformat": 4,
 "nbformat_minor": 2
}
